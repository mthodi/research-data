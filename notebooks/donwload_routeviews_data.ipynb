{
 "cells": [
  {
   "cell_type": "code",
   "execution_count": 1,
   "id": "initial_id",
   "metadata": {
    "collapsed": true,
    "ExecuteTime": {
     "end_time": "2023-10-20T08:51:24.135394032Z",
     "start_time": "2023-10-20T08:51:23.876523431Z"
    }
   },
   "outputs": [],
   "source": [
    "import config\n",
    "import pandas as pd\n",
    "from sqlalchemy import text\n",
    "import bgpkit\n",
    "from tqdm import tqdm\n",
    "from concurrent.futures import ThreadPoolExecutor, as_completed\n",
    "from manage_storage import FileManager"
   ]
  },
  {
   "cell_type": "code",
   "execution_count": 2,
   "outputs": [],
   "source": [
    "# configs\n",
    "base_dir = config.base_dir / 'routeviews'\n",
    "assert base_dir.exists()\n",
    "url_engine = config.make_engine('metadata')\n",
    "output_engine = config.make_engine('routes')\n",
    "route_collectors = ['route-views.jinx','route-views.napafrica', 'route-views.kixp', 'route-views.gixa']"
   ],
   "metadata": {
    "collapsed": false,
    "ExecuteTime": {
     "end_time": "2023-10-20T08:51:24.141129047Z",
     "start_time": "2023-10-20T08:51:24.137445630Z"
    }
   },
   "id": "4fa28ae248bdef7f"
  },
  {
   "cell_type": "code",
   "execution_count": 3,
   "outputs": [],
   "source": [
    "# setup directory structure\n",
    "fm = FileManager(base_dir)\n",
    "# fm.make_directory_structure(2012, 2024)"
   ],
   "metadata": {
    "collapsed": false,
    "ExecuteTime": {
     "end_time": "2023-10-20T08:51:24.141718810Z",
     "start_time": "2023-10-20T08:51:24.139527959Z"
    }
   },
   "id": "3547ed3690b13b40"
  },
  {
   "cell_type": "code",
   "execution_count": 9,
   "outputs": [],
   "source": [
    "# functions\n",
    "def get_output_file_name(url):\n",
    "    \"\"\"Generates output file name from URL.\"\"\"\n",
    "    parts = url.split('/')\n",
    "    collector_name = parts[3].split('.')[1]\n",
    "    date_parts = parts[-1].split('.')[1]\n",
    "    date = f\"{date_parts[4:6]}_{date_parts[6:8]}_{date_parts[:4]}\"\n",
    "    output = f\"route-views.{collector_name}_{date}\"\n",
    "    return output\n",
    "\n",
    "\n",
    "def flatten_list_to_string(_list):\n",
    "    \"\"\"Flatten list to string.\"\"\"\n",
    "    if _list is None or len(_list) == 0:\n",
    "        return None\n",
    "    return ' '.join([str(elem) for elem in _list])\n",
    "\n",
    "def parse_mrt_file(file_path):\n",
    "    \"\"\"Parse MRT file and return a list of dictionaries.\"\"\"\n",
    "    output_file_name = get_output_file_name(file_path)\n",
    "    print(f\">>> START: {output_file_name}\")\n",
    "    parser = bgpkit.Parser(url=file_path)\n",
    "    elements = parser.parse_all()\n",
    "    rc_name = output_file_name.split('_')[0]\n",
    "    _df = pd.DataFrame(elements)\n",
    "    _df['origin_asns'] = _df['origin_asns'].apply(flatten_list_to_string)\n",
    "    _df['communities'] = _df['communities'].apply(flatten_list_to_string)\n",
    "    _df['route_collector_name'] = rc_name\n",
    "    _df['timestamp'] = pd.to_datetime(_df['timestamp'], unit='s')\n",
    "    # pick only columns we need\n",
    "    _df_db = _df[['timestamp', 'peer_ip','peer_asn','prefix', 'as_path', 'origin_asns', 'origin','communities','route_collector_name', ]]\n",
    "    # save to db\n",
    "    _date = output_file_name.split('_')[3] + \"-\" + output_file_name.split('_')[1] + \"-\" + output_file_name.split('_')[2]\n",
    "    # _date = _date.split('_')[2] + \"-\" + _date.split('_')[0] + \"-\" + _date.split('_')[1]\n",
    "    # print(_date)\n",
    "    output_dir = fm.get_directory_name(_date)\n",
    "    _df_db.to_sql('rv_ipv4', output_engine, if_exists='append', index=False)\n",
    "    _df.to_parquet(f\"{output_dir}/{output_file_name}.parquet\")\n",
    "    print(f\">>> DONE: {output_file_name}\")\n",
    "    return len(_df)\n",
    "\n",
    "\n",
    "def get_latest_daily_urls(route_collector_name: str, start_date: str, end_date: str, db_engine) -> list:\n",
    "    query = text(\"\"\"\n",
    "        SELECT url\n",
    "        FROM routeviews_urls\n",
    "        WHERE route_collector_name = :route_collector_name\n",
    "        AND timestamp IN (\n",
    "            SELECT MAX(timestamp)\n",
    "            FROM routeviews_urls\n",
    "            WHERE route_collector_name = :route_collector_name\n",
    "            AND DATE(timestamp) BETWEEN :start_date AND :end_date\n",
    "            GROUP BY DATE(timestamp)\n",
    "        )\n",
    "    \"\"\")\n",
    "\n",
    "    _df = pd.read_sql(\n",
    "        query,\n",
    "        db_engine,\n",
    "        params={\n",
    "            'route_collector_name': route_collector_name,\n",
    "            'start_date': start_date,\n",
    "            'end_date': end_date\n",
    "        }\n",
    "    )\n",
    "\n",
    "    return _df['url'].tolist()\n",
    "\n",
    "\n",
    "def generate_dates():\n",
    "    \"\"\"Generate dates.\n",
    "    For every month, get the first and last day of the month, from 2010 to 2023.\n",
    "    Return all dates as a list. There is no need for start and end dates.\n",
    "    \"\"\"\n",
    "    date_list = []\n",
    "    for year in tqdm(range(2010, 2024)):\n",
    "        for month in range(1, 13):\n",
    "            start_date = (pd.Timestamp(year, month, 1)).strftime(\"%Y-%m-%d\")\n",
    "            seventh_day = (pd.Timestamp(year, month, 7)).strftime(\"%Y-%m-%d\")\n",
    "            fourteenth_day = (pd.Timestamp(year, month, 14)).strftime(\"%Y-%m-%d\")\n",
    "            month_end = (pd.Timestamp(year, month, 1) + pd.offsets.MonthEnd(1)).strftime(\"%Y-%m-%d\")\n",
    "            date_list.append(start_date)\n",
    "            date_list.append(seventh_day)\n",
    "            date_list.append(fourteenth_day)\n",
    "            date_list.append(month_end)\n",
    "    return date_list"
   ],
   "metadata": {
    "collapsed": false,
    "ExecuteTime": {
     "end_time": "2023-10-20T09:03:56.652666557Z",
     "start_time": "2023-10-20T09:03:56.612138686Z"
    }
   },
   "id": "e2802f733c4f53e0"
  },
  {
   "cell_type": "code",
   "execution_count": 5,
   "outputs": [
    {
     "data": {
      "text/plain": "31"
     },
     "execution_count": 5,
     "metadata": {},
     "output_type": "execute_result"
    }
   ],
   "source": [
    "# get latest daily urls for jinx route collector\n",
    "jinx_urls = get_latest_daily_urls('route-views.jinx', '2012-07-12', '2019-08-15', url_engine)\n",
    "len(jinx_urls)"
   ],
   "metadata": {
    "collapsed": false,
    "ExecuteTime": {
     "end_time": "2023-10-20T08:51:34.494996617Z",
     "start_time": "2023-10-20T08:51:34.415717300Z"
    }
   },
   "id": "9c4f7b689173ffe5"
  },
  {
   "cell_type": "code",
   "execution_count": 6,
   "outputs": [
    {
     "name": "stdout",
     "output_type": "stream",
     "text": [
      ">>> START: route-views.jinx_10_11_2012\n",
      ">>> START: route-views.jinx_10_12_2012\n",
      ">>> START: route-views.jinx_10_13_2012\n",
      ">>> START: route-views.jinx_10_14_2012\n",
      ">>> START: route-views.jinx_10_15_2012\n",
      ">>> START: route-views.jinx_10_16_2012\n",
      ">>> START: route-views.jinx_10_17_2012\n",
      ">>> START: route-views.jinx_10_18_2012\n",
      ">>> START: route-views.jinx_10_19_2012\n",
      ">>> START: route-views.jinx_10_20_2012\n",
      "2012-10-11\n",
      "2012-10-12\n",
      "2012-10-13\n",
      "2012-10-16\n",
      "2012-10-17\n",
      "2012-10-14\n",
      "2012-10-15\n",
      "2012-10-18\n",
      "2012-10-19\n",
      "2012-10-20\n",
      ">>> START: route-views.jinx_10_21_2012\n",
      "!!<< (pymysql.err.OperationalError) (1050, \"Table 'rv_ipv4' already exists\")\n",
      "[SQL: \n",
      "CREATE TABLE rv_ipv4 (\n",
      "\ttimestamp DATETIME, \n",
      "\tpeer_ip TEXT, \n",
      "\tpeer_asn BIGINT, \n",
      "\tprefix TEXT, \n",
      "\tas_path TEXT, \n",
      "\torigin_asns TEXT, \n",
      "\torigin TEXT, \n",
      "\tcommunities TEXT, \n",
      "\troute_collector_name TEXT\n",
      ")\n",
      "\n",
      "]\n",
      "(Background on this error at: https://sqlalche.me/e/20/e3q8)\n",
      ">>> START: route-views.jinx_10_22_2012\n",
      ">>> START: route-views.jinx_10_23_2012\n",
      "!!<< (pymysql.err.OperationalError) (1050, \"Table 'rv_ipv4' already exists\")\n",
      "[SQL: \n",
      "CREATE TABLE rv_ipv4 (\n",
      "\ttimestamp DATETIME, \n",
      "\tpeer_ip TEXT, \n",
      "\tpeer_asn BIGINT, \n",
      "\tprefix TEXT, \n",
      "\tas_path TEXT, \n",
      "\torigin_asns TEXT, \n",
      "\torigin TEXT, \n",
      "\tcommunities TEXT, \n",
      "\troute_collector_name TEXT\n",
      ")\n",
      "\n",
      "]\n",
      "(Background on this error at: https://sqlalche.me/e/20/e3q8)\n",
      "!!<< (pymysql.err.OperationalError) (1050, \"Table 'rv_ipv4' already exists\")\n",
      "[SQL: \n",
      "CREATE TABLE rv_ipv4 (\n",
      "\ttimestamp DATETIME, \n",
      "\tpeer_ip TEXT, \n",
      "\tpeer_asn BIGINT, \n",
      "\tprefix TEXT, \n",
      "\tas_path TEXT, \n",
      "\torigin_asns TEXT, \n",
      "\torigin TEXT, \n",
      "\tcommunities TEXT, \n",
      "\troute_collector_name TEXT\n",
      ")\n",
      "\n",
      "]\n",
      "(Background on this error at: https://sqlalche.me/e/20/e3q8)\n",
      ">>> START: route-views.jinx_10_24_2012\n",
      "!!<< (pymysql.err.OperationalError) (1050, \"Table 'rv_ipv4' already exists\")\n",
      "[SQL: \n",
      "CREATE TABLE rv_ipv4 (\n",
      "\ttimestamp DATETIME, \n",
      "\tpeer_ip TEXT, \n",
      "\tpeer_asn BIGINT, \n",
      "\tprefix TEXT, \n",
      "\tas_path TEXT, \n",
      "\torigin_asns TEXT, \n",
      "\torigin TEXT, \n",
      "\tcommunities TEXT, \n",
      "\troute_collector_name TEXT\n",
      ")\n",
      "\n",
      "]\n",
      "(Background on this error at: https://sqlalche.me/e/20/e3q8)\n",
      "2012-10-24\n",
      "2012-10-23\n",
      "2012-10-21\n",
      "2012-10-22\n",
      ">>> DONE: route-views.jinx_10_18_2012\n",
      ">>> START: route-views.jinx_10_25_2012\n",
      ">>> DONE: route-views.jinx_10_21_2012>>> DONE: route-views.jinx_10_15_2012\n",
      "\n",
      ">>> DONE: route-views.jinx_10_13_2012\n",
      ">>> DONE: route-views.jinx_10_12_2012\n",
      ">>> START: route-views.jinx_10_26_2012\n",
      ">>> START: route-views.jinx_10_27_2012\n",
      ">>> START: route-views.jinx_10_28_2012>>> START: route-views.jinx_10_29_2012\n",
      "\n",
      ">>> DONE: route-views.jinx_10_14_2012\n",
      ">>> START: route-views.jinx_10_30_2012\n",
      ">>> DONE: route-views.jinx_10_23_2012\n",
      ">>> START: route-views.jinx_10_31_2012\n",
      ">>> DONE: route-views.jinx_10_24_2012\n",
      ">>> DONE: route-views.jinx_10_11_2012\n",
      ">>> DONE: route-views.jinx_10_22_2012\n",
      "2012-10-28\n",
      "2012-10-26\n",
      "2012-10-31\n",
      "2012-10-252012-10-29\n",
      "2012-10-27\n",
      "\n",
      "2012-10-30\n",
      ">>> DONE: route-views.jinx_10_28_2012\n",
      ">>> DONE: route-views.jinx_10_25_2012\n",
      ">>> DONE: route-views.jinx_10_26_2012\n",
      ">>> DONE: route-views.jinx_10_27_2012\n",
      ">>> DONE: route-views.jinx_10_30_2012\n",
      ">>> DONE: route-views.jinx_10_31_2012\n",
      ">>> DONE: route-views.jinx_10_29_2012\n"
     ]
    }
   ],
   "source": [
    "with ThreadPoolExecutor(max_workers=10) as executor:   \n",
    "    futures = [executor.submit(parse_mrt_file, url) for url in jinx_urls[10:]]\n",
    "    for future in as_completed(futures):\n",
    "        try:\n",
    "           _dum = future.result()\n",
    "        except Exception as e:\n",
    "            print(f\"!!<< {e}\")"
   ],
   "metadata": {
    "collapsed": false,
    "ExecuteTime": {
     "end_time": "2023-10-20T08:52:19.304616933Z",
     "start_time": "2023-10-20T08:51:37.414940029Z"
    }
   },
   "id": "8ebc687fc3d42887"
  },
  {
   "cell_type": "code",
   "execution_count": 7,
   "outputs": [
    {
     "data": {
      "text/plain": "6682"
     },
     "execution_count": 7,
     "metadata": {},
     "output_type": "execute_result"
    }
   ],
   "source": [
    "# get latest urls for napafrica route collector\n",
    "napafrica_urls = get_latest_daily_urls('route-views.napafrica', '2018-02-01', '2023-09-14', url_engine)\n",
    "kixp_urls = get_latest_daily_urls('route-views.kixp', '2014-01-01', '2023-09-14', url_engine)\n",
    "gixa_urls = get_latest_daily_urls('route-views.gixa', '2019-05-29', '2023-09-14', url_engine)\n",
    "all_urls = napafrica_urls + kixp_urls + gixa_urls\n",
    "len(all_urls)"
   ],
   "metadata": {
    "collapsed": false,
    "ExecuteTime": {
     "end_time": "2023-10-20T09:02:20.741396538Z",
     "start_time": "2023-10-20T09:02:20.449463914Z"
    }
   },
   "id": "3f98165dc8bd7a8f"
  },
  {
   "cell_type": "code",
   "execution_count": null,
   "outputs": [],
   "source": [
    "# download files\n",
    "with ThreadPoolExecutor(max_workers=10) as executor:   \n",
    "    futures = [executor.submit(parse_mrt_file, url) for url in kixp_urls]\n",
    "    for future in as_completed(futures):\n",
    "        try:\n",
    "            _dum = future.result()\n",
    "        except Exception as e:\n",
    "            print(f\"!!<< {e}\")"
   ],
   "metadata": {
    "collapsed": false,
    "is_executing": true
   },
   "id": "ae7869dd3c7583e4"
  }
 ],
 "metadata": {
  "kernelspec": {
   "display_name": "Python 3",
   "language": "python",
   "name": "python3"
  },
  "language_info": {
   "codemirror_mode": {
    "name": "ipython",
    "version": 2
   },
   "file_extension": ".py",
   "mimetype": "text/x-python",
   "name": "python",
   "nbconvert_exporter": "python",
   "pygments_lexer": "ipython2",
   "version": "2.7.6"
  }
 },
 "nbformat": 4,
 "nbformat_minor": 5
}
