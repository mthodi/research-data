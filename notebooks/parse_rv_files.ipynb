{
 "cells": [
  {
   "cell_type": "code",
   "execution_count": 1,
   "id": "initial_id",
   "metadata": {
    "collapsed": true,
    "ExecuteTime": {
     "end_time": "2023-10-24T18:24:38.488222485Z",
     "start_time": "2023-10-24T18:24:37.940893630Z"
    }
   },
   "outputs": [],
   "source": [
    "import pandas as pd\n",
    "import config\n",
    "import bgpkit\n",
    "import manage_storage\n",
    "from tqdm import tqdm\n",
    "import os"
   ]
  },
  {
   "cell_type": "code",
   "execution_count": 2,
   "outputs": [
    {
     "name": "stdout",
     "output_type": "stream",
     "text": [
      "/home/martin/Research/data/routeviews/rv_raw/napafrica\n"
     ]
    }
   ],
   "source": [
    "# configs\n",
    "base_dir = config.base_dir\n",
    "rv_raw_dir = base_dir / 'routeviews' / 'rv_raw/napafrica'\n",
    "print(rv_raw_dir)\n",
    "assert base_dir.exists()\n",
    "assert rv_raw_dir.exists()\n",
    "output_engine = config.make_engine('routes')\n",
    "fm = manage_storage.FileManager(base_dir / 'routeviews')"
   ],
   "metadata": {
    "collapsed": false,
    "ExecuteTime": {
     "end_time": "2023-10-24T18:24:40.624918915Z",
     "start_time": "2023-10-24T18:24:40.622913855Z"
    }
   },
   "id": "f0d71bade797cde6"
  },
  {
   "cell_type": "code",
   "execution_count": 4,
   "outputs": [
    {
     "name": "stdout",
     "output_type": "stream",
     "text": [
      "Number of files: 262\n"
     ]
    }
   ],
   "source": [
    "# load all file names from raw dir\n",
    "rv_raw_files = list(rv_raw_dir.glob('*'))\n",
    "print(f\"Number of files: {len(rv_raw_files)}\")\n",
    "# print(f\"Number of napafrica files: {len(napafrica_files)}\")"
   ],
   "metadata": {
    "collapsed": false,
    "ExecuteTime": {
     "end_time": "2023-10-24T18:25:06.036183Z",
     "start_time": "2023-10-24T18:25:06.033788441Z"
    }
   },
   "id": "ac858d06237d695c"
  },
  {
   "cell_type": "code",
   "execution_count": 5,
   "outputs": [
    {
     "data": {
      "text/plain": "PosixPath('/home/martin/Research/data/routeviews/rv_raw/napafrica/route-views.napafrica_12_28_2020')"
     },
     "execution_count": 5,
     "metadata": {},
     "output_type": "execute_result"
    }
   ],
   "source": [
    "rv_raw_files[0]"
   ],
   "metadata": {
    "collapsed": false,
    "ExecuteTime": {
     "end_time": "2023-10-24T18:25:39.921408298Z",
     "start_time": "2023-10-24T18:25:39.875240125Z"
    }
   },
   "id": "b6b276a3bbcc9040"
  },
  {
   "cell_type": "code",
   "execution_count": 6,
   "outputs": [],
   "source": [
    "# functions\n",
    "def get_output_file_name(url):\n",
    "    \"\"\"Generates output file name from URL.\"\"\"\n",
    "    parts = url.split('/')\n",
    "    collector_name = parts[3].split('.')[1]\n",
    "    date_parts = parts[-1].split('.')[1]\n",
    "    date = f\"{date_parts[4:6]}_{date_parts[6:8]}_{date_parts[:4]}\"\n",
    "    output = f\"route-views.{collector_name}_{date}\"\n",
    "    return output\n",
    "\n",
    "\n",
    "def flatten_list_to_string(_list):\n",
    "    \"\"\"Flatten list to string.\"\"\"\n",
    "    if _list is None or len(_list) == 0:\n",
    "        return None\n",
    "    return ' '.join([str(elem) for elem in _list])\n",
    "\n",
    "def parse_mrt_file(file_path):\n",
    "    \"\"\"Parse MRT file and return a list of dictionaries.\"\"\"\n",
    "    file_path = str(file_path)\n",
    "    output_file_name = file_path.split('/')[-1]\n",
    "\n",
    "    parser = bgpkit.Parser(url=file_path)\n",
    "    \n",
    "    elements = parser.parse_all()\n",
    "    rc_name = output_file_name.split('_')[0]\n",
    "    _df = pd.DataFrame(elements)\n",
    "    if _df.empty:\n",
    "        # print(f\">>> EMPTY: {output_file_name}\")\n",
    "        return 0\n",
    "    _df['origin_asns'] = _df['origin_asns'].apply(flatten_list_to_string)\n",
    "    _df['communities'] = _df['communities'].apply(flatten_list_to_string)\n",
    "    _df['route_collector_name'] = rc_name\n",
    "    _df['timestamp'] = pd.to_datetime(_df['timestamp'], unit='s')\n",
    "    # pick only columns we need\n",
    "    _df_db = _df[['timestamp', 'peer_ip', 'peer_asn', 'prefix', 'as_path', 'origin_asns', 'origin', 'communities',\n",
    "                  'route_collector_name', ]]\n",
    "    # # save to db\n",
    "    tt = output_file_name.split('.bz2')[0]\n",
    "    _date = tt.split('_')[3] + \"-\" + tt.split('_')[1] + \"-\" + tt.split('_')[2]\n",
    "    # print(_date)\n",
    "    # _date = _date.split('_')[2] + \"-\" + _date.split('_')[0] + \"-\" + _date.split('_')[1]\n",
    "    # print(_date)\n",
    "    output_dir = fm.get_directory_name(_date)\n",
    "    # print(output_dir)\n",
    "    # _df_db.to_sql('rv_ipv4', output_engine, if_exists='append', index=False)\n",
    "    _df.to_parquet(f\"{output_dir}/{output_file_name}.parquet\")\n",
    "    # delete file\n",
    "    os.remove(file_path)\n",
    "    # print(f\">>> DONE: {output_file_name}\")"
   ],
   "metadata": {
    "collapsed": false,
    "ExecuteTime": {
     "end_time": "2023-10-24T18:25:55.265123592Z",
     "start_time": "2023-10-24T18:25:55.193615389Z"
    }
   },
   "id": "ec9d975a605ab48c"
  },
  {
   "cell_type": "code",
   "execution_count": null,
   "outputs": [
    {
     "name": "stderr",
     "output_type": "stream",
     "text": [
      "  0%|          | 0/1 [00:00<?, ?it/s]"
     ]
    }
   ],
   "source": [
    "\n",
    "for mrt_file in tqdm(rv_raw_files[:1]):\n",
    "    try:\n",
    "        parse_mrt_file(mrt_file)\n",
    "    except Exception as e:\n",
    "        print(f\"An error occurred: {str(e)}\")\n",
    "\n",
    "# for mrt_file in tqdm(napafrica_files):\n",
    "#     parse_mrt_file(mrt_file)"
   ],
   "metadata": {
    "collapsed": false,
    "is_executing": true,
    "ExecuteTime": {
     "start_time": "2023-10-24T18:26:25.057479302Z"
    }
   },
   "id": "e745b8000d5eeebf"
  }
 ],
 "metadata": {
  "kernelspec": {
   "display_name": "Python 3",
   "language": "python",
   "name": "python3"
  },
  "language_info": {
   "codemirror_mode": {
    "name": "ipython",
    "version": 2
   },
   "file_extension": ".py",
   "mimetype": "text/x-python",
   "name": "python",
   "nbconvert_exporter": "python",
   "pygments_lexer": "ipython2",
   "version": "2.7.6"
  }
 },
 "nbformat": 4,
 "nbformat_minor": 5
}
