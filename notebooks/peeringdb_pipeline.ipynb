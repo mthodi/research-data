{
 "cells": [
  {
   "cell_type": "code",
   "id": "initial_id",
   "metadata": {
    "collapsed": true,
    "ExecuteTime": {
     "end_time": "2024-04-11T14:25:13.780358Z",
     "start_time": "2024-04-11T14:25:13.129499Z"
    }
   },
   "source": [
    "import duckdb\n",
    "import pandas as pd\n",
    "import config\n",
    "import json\n",
    "import sqlite3"
   ],
   "outputs": [],
   "execution_count": 1
  },
  {
   "metadata": {
    "ExecuteTime": {
     "end_time": "2024-04-11T14:26:43.041184Z",
     "start_time": "2024-04-11T14:26:43.035824Z"
    }
   },
   "cell_type": "code",
   "source": [
    "# db = duckdb.connect(\"../data/peeringdb.db\", read_only=False)\n",
    "db = sqlite3.connect(\"../data/peeringdb.db\")\n",
    "# latest peeringdb dump\n",
    "input_file = config.BASE_DATA_DIR / 'pdb' / 'peeringdb_2_dump_2024_04_10.json'"
   ],
   "id": "c8dda65c75b0e7a2",
   "outputs": [],
   "execution_count": 6
  },
  {
   "metadata": {
    "ExecuteTime": {
     "end_time": "2024-04-11T14:26:46.529087Z",
     "start_time": "2024-04-11T14:26:46.525656Z"
    }
   },
   "cell_type": "code",
   "source": [
    "# functions \n",
    "def get_json_data(filename):\n",
    "    with open(filename) as f:\n",
    "        data = json.load(f)\n",
    "    return data\n",
    "\n",
    "\n",
    "def get_object(filename, obj_type):\n",
    "    data = get_json_data(filename)\n",
    "    return data[obj_type]['data']"
   ],
   "id": "c6f1aa67dc6e739b",
   "outputs": [],
   "execution_count": 7
  },
  {
   "metadata": {
    "ExecuteTime": {
     "end_time": "2024-04-11T14:25:21.105044Z",
     "start_time": "2024-04-11T14:25:20.164240Z"
    }
   },
   "cell_type": "code",
   "source": [
    "# check the keys in the json file\n",
    "d = get_json_data(input_file)\n",
    "d.keys()"
   ],
   "id": "741bc61f2ac23a13",
   "outputs": [
    {
     "data": {
      "text/plain": [
       "dict_keys(['ixlan', 'ixfac', 'carrierfac', 'netixlan', 'ix', 'net', 'netfac', 'poc', 'api', 'fac', 'carrier', 'org', 'ixpfx', 'as_set', 'campus'])"
      ]
     },
     "execution_count": 4,
     "metadata": {},
     "output_type": "execute_result"
    }
   ],
   "execution_count": 4
  },
  {
   "metadata": {
    "ExecuteTime": {
     "end_time": "2024-04-11T14:40:00.395606Z",
     "start_time": "2024-04-11T14:39:59.312516Z"
    }
   },
   "cell_type": "code",
   "source": [
    "# check the keys in the net object\n",
    "net = get_object(input_file, 'net')\n",
    "df = pd.DataFrame(net)\n",
    "# drop social_media, notes, looking_glass, info_types, status_dashboard, poc_updated, policy_url, route_server\n",
    "df.drop(columns=['social_media', 'notes', 'looking_glass', 'info_types', 'status_dashboard', 'poc_updated', 'policy_url', 'route_server'], inplace=True)\n",
    "\n",
    "df.head(n=2)"
   ],
   "id": "5b48b200ce26a21b",
   "outputs": [
    {
     "data": {
      "text/plain": [
       "  status  fac_count      netixlan_updated      info_ratio  id  policy_ratio  \\\n",
       "0     ok          0  2021-09-22T00:06:59Z                   1          True   \n",
       "1     ok        195  2024-04-08T20:07:39Z  Heavy Outbound   2         False   \n",
       "\n",
       "   info_unicast rir_status               created name_long  ... ix_count  \\\n",
       "0          True         ok  2004-07-28T00:00:00Z            ...        0   \n",
       "1          True         ok  2004-07-28T00:00:00Z            ...      206   \n",
       "\n",
       "  org_id  info_never_via_route_servers info_type policy_contracts  \\\n",
       "0   8897                         False       NSP         Required   \n",
       "1     14                         False   Content     Not Required   \n",
       "\n",
       "  info_prefixes6                                      aka  info_prefixes4  \\\n",
       "0          10000  Formerly known as nLayer Communications          200000   \n",
       "1           5000                                                    12000   \n",
       "\n",
       "   info_ipv6 irr_as_set  \n",
       "0       True             \n",
       "1       True  AS-AKAMAI  \n",
       "\n",
       "[2 rows x 32 columns]"
      ],
      "text/html": [
       "<div>\n",
       "<style scoped>\n",
       "    .dataframe tbody tr th:only-of-type {\n",
       "        vertical-align: middle;\n",
       "    }\n",
       "\n",
       "    .dataframe tbody tr th {\n",
       "        vertical-align: top;\n",
       "    }\n",
       "\n",
       "    .dataframe thead th {\n",
       "        text-align: right;\n",
       "    }\n",
       "</style>\n",
       "<table border=\"1\" class=\"dataframe\">\n",
       "  <thead>\n",
       "    <tr style=\"text-align: right;\">\n",
       "      <th></th>\n",
       "      <th>status</th>\n",
       "      <th>fac_count</th>\n",
       "      <th>netixlan_updated</th>\n",
       "      <th>info_ratio</th>\n",
       "      <th>id</th>\n",
       "      <th>policy_ratio</th>\n",
       "      <th>info_unicast</th>\n",
       "      <th>rir_status</th>\n",
       "      <th>created</th>\n",
       "      <th>name_long</th>\n",
       "      <th>...</th>\n",
       "      <th>ix_count</th>\n",
       "      <th>org_id</th>\n",
       "      <th>info_never_via_route_servers</th>\n",
       "      <th>info_type</th>\n",
       "      <th>policy_contracts</th>\n",
       "      <th>info_prefixes6</th>\n",
       "      <th>aka</th>\n",
       "      <th>info_prefixes4</th>\n",
       "      <th>info_ipv6</th>\n",
       "      <th>irr_as_set</th>\n",
       "    </tr>\n",
       "  </thead>\n",
       "  <tbody>\n",
       "    <tr>\n",
       "      <th>0</th>\n",
       "      <td>ok</td>\n",
       "      <td>0</td>\n",
       "      <td>2021-09-22T00:06:59Z</td>\n",
       "      <td></td>\n",
       "      <td>1</td>\n",
       "      <td>True</td>\n",
       "      <td>True</td>\n",
       "      <td>ok</td>\n",
       "      <td>2004-07-28T00:00:00Z</td>\n",
       "      <td></td>\n",
       "      <td>...</td>\n",
       "      <td>0</td>\n",
       "      <td>8897</td>\n",
       "      <td>False</td>\n",
       "      <td>NSP</td>\n",
       "      <td>Required</td>\n",
       "      <td>10000</td>\n",
       "      <td>Formerly known as nLayer Communications</td>\n",
       "      <td>200000</td>\n",
       "      <td>True</td>\n",
       "      <td></td>\n",
       "    </tr>\n",
       "    <tr>\n",
       "      <th>1</th>\n",
       "      <td>ok</td>\n",
       "      <td>195</td>\n",
       "      <td>2024-04-08T20:07:39Z</td>\n",
       "      <td>Heavy Outbound</td>\n",
       "      <td>2</td>\n",
       "      <td>False</td>\n",
       "      <td>True</td>\n",
       "      <td>ok</td>\n",
       "      <td>2004-07-28T00:00:00Z</td>\n",
       "      <td></td>\n",
       "      <td>...</td>\n",
       "      <td>206</td>\n",
       "      <td>14</td>\n",
       "      <td>False</td>\n",
       "      <td>Content</td>\n",
       "      <td>Not Required</td>\n",
       "      <td>5000</td>\n",
       "      <td></td>\n",
       "      <td>12000</td>\n",
       "      <td>True</td>\n",
       "      <td>AS-AKAMAI</td>\n",
       "    </tr>\n",
       "  </tbody>\n",
       "</table>\n",
       "<p>2 rows × 32 columns</p>\n",
       "</div>"
      ]
     },
     "execution_count": 16,
     "metadata": {},
     "output_type": "execute_result"
    }
   ],
   "execution_count": 16
  },
  {
   "metadata": {
    "ExecuteTime": {
     "end_time": "2024-04-11T14:39:09.418990Z",
     "start_time": "2024-04-11T14:39:06.511222Z"
    }
   },
   "cell_type": "code",
   "source": [
    "def import_pdb_file(f, peering_db_engine=db):\n",
    "\n",
    "    try:\n",
    "        # record_date = '2023-10-09' # extract_date(f)\n",
    "        json_data = get_json_data(f)\n",
    "        print(json_data.keys())\n",
    "        # get IX LAN data\n",
    "        ix_lan = pd.DataFrame(json_data['ixlan']['data'])\n",
    "        print(\"IX LAN data\")\n",
    "        # ix_lan['record_date'] = record_date\n",
    "        # get IX data\n",
    "        ix = pd.DataFrame(json_data['ix']['data'])\n",
    "        ix = ix.drop(columns=['social_media'], errors='ignore')\n",
    "        # ix['record_date'] = record_date\n",
    "        # get network data\n",
    "        net = pd.DataFrame(json_data['net']['data'])\n",
    "        net = net.drop(columns=['social_media','aka', 'status_dashboard','looking_glass', 'website', 'name_long', 'route_server','notes','irr_as_set', 'info_types'], errors='ignore')\n",
    "        print(\"Network data\")\n",
    "        # net['record_date'] = record_date\n",
    "        # get network ix lan data\n",
    "        ix_pres = pd.DataFrame(json_data['netixlan']['data'])\n",
    "        print(\"Network IX LAN data\")\n",
    "        # ix_pres['record_date'] = record_date\n",
    "        # get network facility data\n",
    "        fac_p = pd.DataFrame(json_data['netfac']['data'])\n",
    "        # fac_p['record_date'] = record_date\n",
    "        print(\"Network facility data\")\n",
    "        # get facility data\n",
    "        fac = pd.DataFrame(json_data['fac']['data'])\n",
    "        fac.drop(columns=['website', 'notes', 'version', 'address1',\n",
    "                          'address2', 'city', 'state', 'zipcode','social_media', 'aka', 'suite', 'floor','require_2fa',\n",
    "                          'available_voltage_services', 'aka', 'property','name_long'], errors='ignore', inplace=True)\n",
    "        print(\"Facility data\", len(fac))\n",
    "        # fac['record_date'] = record_date\n",
    "        # get organization data\n",
    "        org = pd.DataFrame(json_data['org']['data'])\n",
    "        print(\"Organization data\",len(org))\n",
    "        # org['record_date'] = record_date\n",
    "        org = org.drop(columns=['website', 'notes', 'version', 'address1',\n",
    "                                'address2', 'city', 'state', 'zipcode','social_media', 'aka', 'suite', 'floor','require_2fa'], errors='ignore')\n",
    "        # save all data to db\n",
    "        ix_lan.to_sql('ix_lan', con=peering_db_engine, index=False, if_exists='replace')\n",
    "        print(\"IX LAN data Inserted\")\n",
    "        ix.to_sql('ix', con=peering_db_engine, index=False, if_exists='replace')\n",
    "        net.to_sql('net', con=peering_db_engine, index=False, if_exists='replace')\n",
    "        print(\"Network data Inserted\")\n",
    "        ix_pres.to_sql('netixlan', con=peering_db_engine, index=False, if_exists='replace')\n",
    "        print(\"Network IX LAN data Inserted\")\n",
    "        fac_p.to_sql('netfac', con=peering_db_engine, index=False, if_exists='replace')\n",
    "        print(\"Network facility data Inserted\")\n",
    "        fac.to_sql('fac', con=peering_db_engine, index=False, if_exists='replace')\n",
    "        print(\"Facility data Inserted\")\n",
    "        org.to_sql('org', con=peering_db_engine, index=False, if_exists='replace')\n",
    "        print(\"Organization data Inserted\")\n",
    "        print(f\"[+] Done processing {f.stem}\")\n",
    "    except Exception as e:\n",
    "        print(f\"[-] Error processing {f.stem}: {e}\")\n",
    "\n",
    "import_pdb_file(input_file)"
   ],
   "id": "1b534a5b13c9b026",
   "outputs": [
    {
     "name": "stdout",
     "output_type": "stream",
     "text": [
      "dict_keys(['ixlan', 'ixfac', 'carrierfac', 'netixlan', 'ix', 'net', 'netfac', 'poc', 'api', 'fac', 'carrier', 'org', 'ixpfx', 'as_set', 'campus'])\n",
      "IX LAN data\n",
      "IX data\n",
      "Network data\n",
      "Network IX LAN data\n",
      "Network facility data\n",
      "Facility data 5366\n",
      "Organization data 27994\n",
      "IX LAN data Inserted\n",
      "Network data Inserted\n",
      "Network IX LAN data Inserted\n",
      "Network facility data Inserted\n",
      "Facility data Inserted\n",
      "Organization data Inserted\n",
      "[+] Done processing peeringdb_2_dump_2024_04_10\n"
     ]
    }
   ],
   "execution_count": 15
  },
  {
   "metadata": {},
   "cell_type": "markdown",
   "source": "",
   "id": "59582916152e1cda"
  }
 ],
 "metadata": {
  "kernelspec": {
   "display_name": "Python 3",
   "language": "python",
   "name": "python3"
  },
  "language_info": {
   "codemirror_mode": {
    "name": "ipython",
    "version": 2
   },
   "file_extension": ".py",
   "mimetype": "text/x-python",
   "name": "python",
   "nbconvert_exporter": "python",
   "pygments_lexer": "ipython2",
   "version": "2.7.6"
  }
 },
 "nbformat": 4,
 "nbformat_minor": 5
}
